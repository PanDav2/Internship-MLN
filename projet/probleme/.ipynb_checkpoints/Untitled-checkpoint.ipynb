{
 "cells": [
  {
   "cell_type": "code",
   "execution_count": 1,
   "metadata": {
    "collapsed": false
   },
   "outputs": [],
   "source": [
    "#-*- coding: utf-8 -*-\n",
    "import time\n",
    "import sys\n",
    "import re\n",
    "from stanford_corenlp_pywrapper import CoreNLP"
   ]
  },
  {
   "cell_type": "code",
   "execution_count": 2,
   "metadata": {
    "collapsed": false
   },
   "outputs": [
    {
     "name": "stderr",
     "output_type": "stream",
     "text": [
      "INFO:CoreNLP_PyWrapper:mode given as 'parse' so setting annotators: tokenize, ssplit, pos, lemma, parse\n",
      "INFO:CoreNLP_PyWrapper:Starting java subprocess, and waiting for signal it's ready, with command: exec java -Xmx4g -XX:ParallelGCThreads=1 -cp '/people/panou/Stage/projet/lib/stanford_corenlp_pywrapper/lib/*:/people/panou/Stage/projet/stanford-corenlp-full-2015-04-20/*'      corenlp.SocketServer --outpipe /tmp/corenlp_pywrap_pipe_pypid=22837_time=1440058054.21  --configdict '{\"annotators\": \"tokenize, ssplit, pos, lemma, parse\"}'\n",
      "INFO:CoreNLP_PyWrapper:Successful ping. The server has started.\n",
      "INFO:CoreNLP_PyWrapper:Subprocess is ready.\n"
     ]
    },
    {
     "data": {
      "text/plain": [
       "'    sys.stdout.write(\"-\")\\n    sys.stdout.flush()\\n    sys.stdout.write(\"\\n\")'"
      ]
     },
     "execution_count": 2,
     "metadata": {},
     "output_type": "execute_result"
    }
   ],
   "source": [
    "toolbar_width = 40\n",
    "loc= \"/people/panou/Stage/projet/stanford-corenlp-full-2015-04-20/*\"\n",
    "#toolbar setup\n",
    "\"\"\"\n",
    "sys.stdout.write(\"[%s]\"% (\" \"* toolbar_width))\n",
    "sys.stdout.flush()\n",
    "sys.stdout.write(\"\\b\"* (toolbar_width+1))# return to start of line, after '['\n",
    "\"\"\"\n",
    "#for i in xrange(toolbar_width):\n",
    "proc = CoreNLP(\"parse\", corenlp_jars=[loc])    \n",
    "\"\"\"    sys.stdout.write(\"-\")\n",
    "    sys.stdout.flush()\n",
    "    sys.stdout.write(\"\\n\")\"\"\"\n",
    "\n",
    "\n"
   ]
  },
  {
   "cell_type": "code",
   "execution_count": 46,
   "metadata": {
    "collapsed": false
   },
   "outputs": [],
   "source": [
    "a =proc.parse_doc(\"Give me all people that were born in Vienna and died in Berlin.\")"
   ]
  },
  {
   "cell_type": "code",
   "execution_count": 47,
   "metadata": {
    "collapsed": false
   },
   "outputs": [
    {
     "name": "stdout",
     "output_type": "stream",
     "text": [
      "phrasePosTag(Give,VB)\n",
      "phrasePosTag(me,PRP)\n",
      "phrasePosTag(all,DT)\n",
      "phrasePosTag(people,NNS)\n",
      "phrasePosTag(that,WDT)\n",
      "phrasePosTag(were,VBD)\n",
      "phrasePosTag(born,VBN)\n",
      "phrasePosTag(in,IN)\n",
      "phrasePosTag(Vienna,NNP)\n",
      "phrasePosTag(and,CC)\n",
      "phrasePosTag(died,VBD)\n",
      "phrasePosTag(in,IN)\n",
      "phrasePosTag(Berlin,NNP)\n",
      "phrasePosTag(.,.)\n"
     ]
    }
   ],
   "source": [
    "i=0\n",
    "for elmt1 in a['sentences'][0]['tokens']:\n",
    "    j=0\n",
    "    for elmt in a['sentences'][0]['pos']:\n",
    "        if i==j:\n",
    "            print \"phrasePosTag(\"+elmt1+','+elmt+')'\n",
    "        j=j+1\n",
    "    i=i+1"
   ]
  },
  {
   "cell_type": "code",
   "execution_count": 48,
   "metadata": {
    "collapsed": false,
    "scrolled": false
   },
   "outputs": [
    {
     "name": "stdout",
     "output_type": "stream",
     "text": [
      "PhraseIndex(Give,1,1)\n",
      "PhraseIndex(Me,2,2)\n",
      "PhraseIndex(All,3,3)\n",
      "PhraseIndex(People,4,4)\n",
      "PhraseIndex(That,5,5)\n",
      "PhraseIndex(Were,6,6)\n",
      "PhraseIndex(Born,7,7)\n",
      "PhraseIndex(In,8,8)\n",
      "PhraseIndex(Vienna,9,9)\n",
      "PhraseIndex(And,10,10)\n",
      "PhraseIndex(Died,11,11)\n",
      "PhraseIndex(In,12,12)\n",
      "PhraseIndex(Berlin,13,13)\n",
      "PhraseIndex(.,14,14)\n",
      "\n",
      "\n",
      "phraseDepTag(.,Give,Root)\n",
      "phraseDepTag(Give,Me,Iobj)\n",
      "phraseDepTag(Give,People,Dobj)\n",
      "phraseDepTag(Give,And,Cc)\n",
      "phraseDepTag(Give,Died,Conj:And)\n",
      "phraseDepTag(People,All,Det)\n",
      "phraseDepTag(People,Born,Acl:Relcl)\n",
      "phraseDepTag(Born,That,Nsubjpass)\n",
      "phraseDepTag(Born,Were,Auxpass)\n",
      "phraseDepTag(Born,Vienna,Nmod:In)\n",
      "phraseDepTag(Vienna,In,Case)\n",
      "phraseDepTag(Died,Berlin,Nmod:In)\n",
      "phraseDepTag(Berlin,In,Case)\n",
      "\n",
      "\n",
      "phrasePosTag(Give,VB)\n",
      "phrasePosTag(Me,PRP)\n",
      "phrasePosTag(All,DT)\n",
      "phrasePosTag(People,NNS)\n",
      "phrasePosTag(That,WDT)\n",
      "phrasePosTag(Were,VBD)\n",
      "phrasePosTag(Born,VBN)\n",
      "phrasePosTag(In,IN)\n",
      "phrasePosTag(Vienna,NNP)\n",
      "phrasePosTag(And,CC)\n",
      "phrasePosTag(Died,VBD)\n",
      "phrasePosTag(In,IN)\n",
      "phrasePosTag(Berlin,NNP)\n"
     ]
    }
   ],
   "source": [
    "index=0\n",
    "i=0\n",
    "stopwords=[\",\",\".\",\"?\"]\n",
    "tableau=a[\"sentences\"][0][\"tokens\"]\n",
    "deptag=a[\"sentences\"][0][\"deps_cc\"]\n",
    "\n",
    "for l,tok in enumerate(tableau):\n",
    "    print \"PhraseIndex(\"+tok.title()+','+str(l+1)+','+str(l+1)+')'\n",
    "    \n",
    "print '\\n'\n",
    "\n",
    "for cpt in range(len(deptag)):\n",
    "    if (cpt) < len(tableau):\n",
    "        print \"PhraseDepTag(\"+tableau[deptag[cpt][1]].title()+\",\"+tableau[deptag[cpt][2]].title()+\",\"+deptag[cpt][0].title()+\")\"\n",
    "        #print cpt\n",
    "print '\\n'\n",
    "\n",
    "for tok in tableau:\n",
    "    deptag=a['sentences'][0]['deps_cc']\n",
    "    \n",
    "    if tok not in stopwords:\n",
    "        j=0\n",
    "        #On crée la feature PosTag\n",
    "        for pos in a[\"sentences\"][0]['pos']:\n",
    "            \n",
    "            if i==j:\n",
    "                print \"PhrasePosTag(\"+tok.title()+','+pos.upper()+')'\n",
    "            \n",
    "            j=j+1\n",
    "        i=i+1       "
   ]
  },
  {
   "cell_type": "code",
   "execution_count": 19,
   "metadata": {
    "collapsed": false
   },
   "outputs": [
    {
     "name": "stdout",
     "output_type": "stream",
     "text": [
      "[u'advmod', 1, 0]\n"
     ]
    }
   ],
   "source": [
    "print a['sentences'][0]['deps_cc'][1]"
   ]
  },
  {
   "cell_type": "markdown",
   "metadata": {
    "collapsed": false
   },
   "source": [
    "print a['sentences'][0]['entitymentions']"
   ]
  },
  {
   "cell_type": "code",
   "execution_count": 18,
   "metadata": {
    "collapsed": false,
    "scrolled": true
   },
   "outputs": [
    {
     "name": "stdout",
     "output_type": "stream",
     "text": [
      "(ROOT (SBARQ (WHNP (WHADJP (WRB How) (JJ many)) (NNS students)) (SQ (VBZ does) (NP (NP (DT the) (NNP Free) (NNP University)) (PP (IN in) (NP (NNP Amsterdam)))) (VP (VB have))) (. ?)))\n"
     ]
    }
   ],
   "source": [
    "print a['sentences'][0]['parse']"
   ]
  },
  {
   "cell_type": "code",
   "execution_count": null,
   "metadata": {
    "collapsed": false
   },
   "outputs": [],
   "source": []
  },
  {
   "cell_type": "code",
   "execution_count": null,
   "metadata": {
    "collapsed": true
   },
   "outputs": [],
   "source": []
  }
 ],
 "metadata": {
  "kernelspec": {
   "display_name": "Python 2",
   "language": "python",
   "name": "python2"
  },
  "language_info": {
   "codemirror_mode": {
    "name": "ipython",
    "version": 2
   },
   "file_extension": ".py",
   "mimetype": "text/x-python",
   "name": "python",
   "nbconvert_exporter": "python",
   "pygments_lexer": "ipython2",
   "version": "2.7.6"
  }
 },
 "nbformat": 4,
 "nbformat_minor": 0
}
