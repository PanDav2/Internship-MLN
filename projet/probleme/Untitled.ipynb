{
 "cells": [
  {
   "cell_type": "code",
   "execution_count": 10,
   "metadata": {
    "collapsed": true
   },
   "outputs": [],
   "source": [
    "#-*- coding: utf-8 -*-\n",
    "import time\n",
    "import sys\n",
    "import re\n",
    "from stanford_corenlp_pywrapper import CoreNLP"
   ]
  },
  {
   "cell_type": "code",
   "execution_count": 13,
   "metadata": {
    "collapsed": false
   },
   "outputs": [
    {
     "name": "stderr",
     "output_type": "stream",
     "text": [
      "INFO:CoreNLP_PyWrapper:mode given as 'parse' so setting annotators: tokenize, ssplit, pos, lemma, parse\n",
      "INFO:CoreNLP_PyWrapper:Starting java subprocess, and waiting for signal it's ready, with command: exec java -Xmx4g -XX:ParallelGCThreads=1 -cp '/people/panou/Stage/projet/lib/stanford_corenlp_pywrapper/lib/*:/people/panou/Stage/projet/stanford-corenlp-full-2015-04-20/*'      corenlp.SocketServer --outpipe /tmp/corenlp_pywrap_pipe_pypid=18797_time=1438777997.64  --configdict '{\"annotators\": \"tokenize, ssplit, pos, lemma, parse\"}'\n",
      "INFO:CoreNLP_PyWrapper:Successful ping. The server has started.\n",
      "INFO:CoreNLP_PyWrapper:Subprocess is ready.\n"
     ]
    },
    {
     "data": {
      "text/plain": [
       "'    sys.stdout.write(\"-\")\\n    sys.stdout.flush()\\n    sys.stdout.write(\"\\n\")'"
      ]
     },
     "execution_count": 13,
     "metadata": {},
     "output_type": "execute_result"
    }
   ],
   "source": [
    "toolbar_width = 40\n",
    "loc= \"/people/panou/Stage/projet/stanford-corenlp-full-2015-04-20/*\"\n",
    "#toolbar setup\n",
    "\"\"\"\n",
    "sys.stdout.write(\"[%s]\"% (\" \"* toolbar_width))\n",
    "sys.stdout.flush()\n",
    "sys.stdout.write(\"\\b\"* (toolbar_width+1))# return to start of line, after '['\n",
    "\"\"\"\n",
    "#for i in xrange(toolbar_width):\n",
    "proc = CoreNLP(\"parse\", corenlp_jars=[loc])    \n",
    "\"\"\"    sys.stdout.write(\"-\")\n",
    "    sys.stdout.flush()\n",
    "    sys.stdout.write(\"\\n\")\"\"\"\n",
    "\n",
    "\n"
   ]
  },
  {
   "cell_type": "code",
   "execution_count": 4,
   "metadata": {
    "collapsed": false
   },
   "outputs": [],
   "source": [
    "a =proc.parse_doc(\"Which software has been developed by organizations founded in California, USA?\")"
   ]
  },
  {
   "cell_type": "code",
   "execution_count": 7,
   "metadata": {
    "collapsed": false
   },
   "outputs": [
    {
     "name": "stdout",
     "output_type": "stream",
     "text": [
      "{u'sentences': [{u'parse': u'(ROOT (SBARQ (WHNP (WDT Which) (NN software)) (SQ (VP (VBZ has) (VP (VBN been) (VP (VBN developed) (PP (IN by) (NP (NP (NNS organizations)) (VP (VBN founded) (PP (IN in) (NP (NNP California) (, ,) (NNP USA)))))))))) (. ?)))', u'deps_basic': [[u'root', -1, 4], [u'det', 1, 0], [u'nsubjpass', 4, 1], [u'aux', 4, 2], [u'auxpass', 4, 3], [u'nmod', 4, 6], [u'case', 6, 5], [u'acl', 6, 7], [u'nmod', 7, 11], [u'case', 11, 8], [u'compound', 11, 9]], u'lemmas': [u'which', u'software', u'have', u'be', u'develop', u'by', u'organization', u'found', u'in', u'California', u',', u'USA', u'?'], u'deps_cc': [[u'root', -1, 4], [u'det', 1, 0], [u'nsubjpass', 4, 1], [u'aux', 4, 2], [u'auxpass', 4, 3], [u'nmod:agent', 4, 6], [u'case', 6, 5], [u'acl', 6, 7], [u'nmod:in', 7, 11], [u'case', 11, 8], [u'compound', 11, 9]], u'pos': [u'WDT', u'NN', u'VBZ', u'VBN', u'VBN', u'IN', u'NNS', u'VBN', u'IN', u'NNP', u',', u'NNP', u'.'], u'tokens': [u'Which', u'software', u'has', u'been', u'developed', u'by', u'organizations', u'founded', u'in', u'California', u',', u'USA', u'?'], u'entitymentions': [{u'charspan': [62, 72], u'type': u'LOCATION', u'tokspan': [9, 10], u'sentence': 0}, {u'charspan': [74, 77], u'type': u'LOCATION', u'tokspan': [11, 12], u'sentence': 0}], u'char_offsets': [[0, 5], [6, 14], [15, 18], [19, 23], [24, 33], [34, 36], [37, 50], [51, 58], [59, 61], [62, 72], [72, 73], [74, 77], [77, 78]], u'normner': [u'', u'', u'', u'', u'', u'', u'', u'', u'', u'', u'', u'', u''], u'ner': [u'O', u'O', u'O', u'O', u'O', u'O', u'O', u'O', u'O', u'LOCATION', u'O', u'LOCATION', u'O']}]}\n"
     ]
    }
   ],
   "source": [
    "print a;"
   ]
  },
  {
   "cell_type": "code",
   "execution_count": 5,
   "metadata": {
    "collapsed": false
   },
   "outputs": [
    {
     "name": "stdout",
     "output_type": "stream",
     "text": [
      "[{u'parse': u'(ROOT (SBARQ (WHNP (WDT Which) (NN software)) (SQ (VP (VBZ has) (VP (VBN been) (VP (VBN developed) (PP (IN by) (NP (NP (NNS organizations)) (VP (VBN founded) (PP (IN in) (NP (NNP California) (, ,) (NNP USA)))))))))) (. ?)))', u'deps_basic': [[u'root', -1, 4], [u'det', 1, 0], [u'nsubjpass', 4, 1], [u'aux', 4, 2], [u'auxpass', 4, 3], [u'nmod', 4, 6], [u'case', 6, 5], [u'acl', 6, 7], [u'nmod', 7, 11], [u'case', 11, 8], [u'compound', 11, 9]], u'lemmas': [u'which', u'software', u'have', u'be', u'develop', u'by', u'organization', u'found', u'in', u'California', u',', u'USA', u'?'], u'deps_cc': [[u'root', -1, 4], [u'det', 1, 0], [u'nsubjpass', 4, 1], [u'aux', 4, 2], [u'auxpass', 4, 3], [u'nmod:agent', 4, 6], [u'case', 6, 5], [u'acl', 6, 7], [u'nmod:in', 7, 11], [u'case', 11, 8], [u'compound', 11, 9]], u'pos': [u'WDT', u'NN', u'VBZ', u'VBN', u'VBN', u'IN', u'NNS', u'VBN', u'IN', u'NNP', u',', u'NNP', u'.'], u'tokens': [u'Which', u'software', u'has', u'been', u'developed', u'by', u'organizations', u'founded', u'in', u'California', u',', u'USA', u'?'], u'entitymentions': [{u'charspan': [62, 72], u'type': u'LOCATION', u'tokspan': [9, 10], u'sentence': 0}, {u'charspan': [74, 77], u'type': u'LOCATION', u'tokspan': [11, 12], u'sentence': 0}], u'char_offsets': [[0, 5], [6, 14], [15, 18], [19, 23], [24, 33], [34, 36], [37, 50], [51, 58], [59, 61], [62, 72], [72, 73], [74, 77], [77, 78]], u'normner': [u'', u'', u'', u'', u'', u'', u'', u'', u'', u'', u'', u'', u''], u'ner': [u'O', u'O', u'O', u'O', u'O', u'O', u'O', u'O', u'O', u'LOCATION', u'O', u'LOCATION', u'O']}]\n"
     ]
    }
   ],
   "source": [
    "print a['sentences']"
   ]
  },
  {
   "cell_type": "code",
   "execution_count": 6,
   "metadata": {
    "collapsed": false
   },
   "outputs": [
    {
     "name": "stdout",
     "output_type": "stream",
     "text": [
      "[u'Which', u'software', u'has', u'been', u'developed', u'by', u'organizations', u'founded', u'in', u'California', u',', u'USA', u'?']\n"
     ]
    }
   ],
   "source": [
    "print a['sentences'][0]['tokens']"
   ]
  },
  {
   "cell_type": "code",
   "execution_count": 7,
   "metadata": {
    "collapsed": false
   },
   "outputs": [
    {
     "name": "stdout",
     "output_type": "stream",
     "text": [
      "[u'which', u'software', u'have', u'be', u'develop', u'by', u'organization', u'found', u'in', u'California', u',', u'USA', u'?']\n"
     ]
    }
   ],
   "source": [
    "print a['sentences'][0]['lemmas']"
   ]
  },
  {
   "cell_type": "code",
   "execution_count": 8,
   "metadata": {
    "collapsed": false
   },
   "outputs": [
    {
     "name": "stdout",
     "output_type": "stream",
     "text": [
      "[{u'charspan': [62, 72], u'type': u'LOCATION', u'tokspan': [9, 10], u'sentence': 0}, {u'charspan': [74, 77], u'type': u'LOCATION', u'tokspan': [11, 12], u'sentence': 0}]\n"
     ]
    }
   ],
   "source": [
    "print a['sentences'][0]['entitymentions']"
   ]
  },
  {
   "cell_type": "code",
   "execution_count": 9,
   "metadata": {
    "collapsed": false,
    "scrolled": true
   },
   "outputs": [
    {
     "name": "stdout",
     "output_type": "stream",
     "text": [
      "(ROOT (SBARQ (WHNP (WDT Which) (NN software)) (SQ (VP (VBZ has) (VP (VBN been) (VP (VBN developed) (PP (IN by) (NP (NP (NNS organizations)) (VP (VBN founded) (PP (IN in) (NP (NNP California) (, ,) (NNP USA)))))))))) (. ?)))\n"
     ]
    }
   ],
   "source": [
    "print a['sentences'][0]['parse']"
   ]
  },
  {
   "cell_type": "code",
   "execution_count": null,
   "metadata": {
    "collapsed": false
   },
   "outputs": [],
   "source": []
  },
  {
   "cell_type": "code",
   "execution_count": null,
   "metadata": {
    "collapsed": true
   },
   "outputs": [],
   "source": []
  }
 ],
 "metadata": {
  "kernelspec": {
   "display_name": "Python 2",
   "language": "python",
   "name": "python2"
  },
  "language_info": {
   "codemirror_mode": {
    "name": "ipython",
    "version": 2
   },
   "file_extension": ".py",
   "mimetype": "text/x-python",
   "name": "python",
   "nbconvert_exporter": "python",
   "pygments_lexer": "ipython2",
   "version": "2.7.6"
  }
 },
 "nbformat": 4,
 "nbformat_minor": 0
}
