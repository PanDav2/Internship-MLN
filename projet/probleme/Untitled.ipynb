{
 "cells": [
  {
   "cell_type": "code",
   "execution_count": 2,
   "metadata": {
    "collapsed": true
   },
   "outputs": [],
   "source": [
    "#-*- coding: utf-8 -*-\n",
    "import time\n",
    "import sys\n",
    "import re\n",
    "from stanford_corenlp_pywrapper import CoreNLP"
   ]
  },
  {
   "cell_type": "code",
   "execution_count": 3,
   "metadata": {
    "collapsed": false
   },
   "outputs": [
    {
     "name": "stderr",
     "output_type": "stream",
     "text": [
      "INFO:CoreNLP_PyWrapper:mode given as 'parse' so setting annotators: tokenize, ssplit, pos, lemma, parse\n",
      "INFO:CoreNLP_PyWrapper:Starting java subprocess, and waiting for signal it's ready, with command: exec java -Xmx4g -XX:ParallelGCThreads=1 -cp '/people/panou/Stage/projet/lib/stanford_corenlp_pywrapper/lib/*:/people/panou/Stage/projet/stanford-corenlp-full-2015-04-20/*'      corenlp.SocketServer --outpipe /tmp/corenlp_pywrap_pipe_pypid=30468_time=1439377211.88  --configdict '{\"annotators\": \"tokenize, ssplit, pos, lemma, parse\"}'\n",
      "INFO:CoreNLP_PyWrapper:Successful ping. The server has started.\n",
      "INFO:CoreNLP_PyWrapper:Subprocess is ready.\n"
     ]
    },
    {
     "data": {
      "text/plain": [
       "'    sys.stdout.write(\"-\")\\n    sys.stdout.flush()\\n    sys.stdout.write(\"\\n\")'"
      ]
     },
     "execution_count": 3,
     "metadata": {},
     "output_type": "execute_result"
    }
   ],
   "source": [
    "toolbar_width = 40\n",
    "loc= \"/people/panou/Stage/projet/stanford-corenlp-full-2015-04-20/*\"\n",
    "#toolbar setup\n",
    "\"\"\"\n",
    "sys.stdout.write(\"[%s]\"% (\" \"* toolbar_width))\n",
    "sys.stdout.flush()\n",
    "sys.stdout.write(\"\\b\"* (toolbar_width+1))# return to start of line, after '['\n",
    "\"\"\"\n",
    "#for i in xrange(toolbar_width):\n",
    "proc = CoreNLP(\"parse\", corenlp_jars=[loc])    \n",
    "\"\"\"    sys.stdout.write(\"-\")\n",
    "    sys.stdout.flush()\n",
    "    sys.stdout.write(\"\\n\")\"\"\"\n",
    "\n",
    "\n"
   ]
  },
  {
   "cell_type": "code",
   "execution_count": 82,
   "metadata": {
    "collapsed": false
   },
   "outputs": [],
   "source": [
    "a =proc.parse_doc(\"Les gens sont totalement absurdes lorsqu'il s'agit d'amour\")"
   ]
  },
  {
   "cell_type": "code",
   "execution_count": 83,
   "metadata": {
    "collapsed": false
   },
   "outputs": [
    {
     "name": "stdout",
     "output_type": "stream",
     "text": [
      "{u'sentences': [{u'parse': u\"(ROOT (S (NP (NNP Les) (NNS gens)) (ADJP (JJ sont) (SBAR (S (NP (NN totalement)) (VP (VBZ absurdes) (NP (NP (NN lorsqu'il) (NNS s)) (`` `) (NP (FW agit) (FW d'amour)))))))))\", u'deps_basic': [[u'root', -1, 2], [u'compound', 1, 0], [u'dep', 2, 1], [u'ccomp', 2, 4], [u'nsubj', 4, 3], [u'dobj', 4, 6], [u'compound', 6, 5], [u'dep', 6, 9], [u'compound', 9, 8]], u'lemmas': [u'Les', u'gen', u'sont', u'totalement', u'absurde', u\"lorsqu'il\", u's', u'`', u'agit', u\"d'amour\"], u'deps_cc': [[u'root', -1, 2], [u'compound', 1, 0], [u'dep', 2, 1], [u'ccomp', 2, 4], [u'nsubj', 4, 3], [u'dobj', 4, 6], [u'compound', 6, 5], [u'dep', 6, 9], [u'compound', 9, 8]], u'pos': [u'NNP', u'NNS', u'JJ', u'NN', u'VBZ', u'NN', u'NNS', u'``', u'FW', u'FW'], u'tokens': [u'Les', u'gens', u'sont', u'totalement', u'absurdes', u\"lorsqu'il\", u's', u'`', u'agit', u\"d'amour\"], u'char_offsets': [[0, 3], [4, 8], [9, 13], [14, 24], [25, 33], [34, 43], [44, 45], [45, 46], [46, 50], [51, 58]]}]}\n"
     ]
    }
   ],
   "source": [
    "print a;"
   ]
  },
  {
   "cell_type": "code",
   "execution_count": 84,
   "metadata": {
    "collapsed": false
   },
   "outputs": [
    {
     "name": "stdout",
     "output_type": "stream",
     "text": [
      "[{u'parse': u\"(ROOT (S (NP (NNP Les) (NNS gens)) (ADJP (JJ sont) (SBAR (S (NP (NN totalement)) (VP (VBZ absurdes) (NP (NP (NN lorsqu'il) (NNS s)) (`` `) (NP (FW agit) (FW d'amour)))))))))\", u'deps_basic': [[u'root', -1, 2], [u'compound', 1, 0], [u'dep', 2, 1], [u'ccomp', 2, 4], [u'nsubj', 4, 3], [u'dobj', 4, 6], [u'compound', 6, 5], [u'dep', 6, 9], [u'compound', 9, 8]], u'lemmas': [u'Les', u'gen', u'sont', u'totalement', u'absurde', u\"lorsqu'il\", u's', u'`', u'agit', u\"d'amour\"], u'deps_cc': [[u'root', -1, 2], [u'compound', 1, 0], [u'dep', 2, 1], [u'ccomp', 2, 4], [u'nsubj', 4, 3], [u'dobj', 4, 6], [u'compound', 6, 5], [u'dep', 6, 9], [u'compound', 9, 8]], u'pos': [u'NNP', u'NNS', u'JJ', u'NN', u'VBZ', u'NN', u'NNS', u'``', u'FW', u'FW'], u'tokens': [u'Les', u'gens', u'sont', u'totalement', u'absurdes', u\"lorsqu'il\", u's', u'`', u'agit', u\"d'amour\"], u'char_offsets': [[0, 3], [4, 8], [9, 13], [14, 24], [25, 33], [34, 43], [44, 45], [45, 46], [46, 50], [51, 58]]}]\n"
     ]
    }
   ],
   "source": [
    "print a['sentences']"
   ]
  },
  {
   "cell_type": "code",
   "execution_count": 85,
   "metadata": {
    "collapsed": false
   },
   "outputs": [
    {
     "name": "stdout",
     "output_type": "stream",
     "text": [
      "phrasePosTag(Les,NNP)\n",
      "phrasePosTag(gens,NNS)\n",
      "phrasePosTag(sont,JJ)\n",
      "phrasePosTag(totalement,NN)\n",
      "phrasePosTag(absurdes,VBZ)\n",
      "phrasePosTag(lorsqu'il,NN)\n",
      "phrasePosTag(s,NNS)\n",
      "phrasePosTag(`,``)\n",
      "phrasePosTag(agit,FW)\n",
      "phrasePosTag(d'amour,FW)\n"
     ]
    }
   ],
   "source": [
    "i=0\n",
    "for elmt1 in a['sentences'][0]['tokens']:\n",
    "    j=0\n",
    "    for elmt in a['sentences'][0]['pos']:\n",
    "        if i==j:\n",
    "            print \"phrasePosTag(\"+elmt1+','+elmt+')'\n",
    "        j=j+1\n",
    "    i=i+1"
   ]
  },
  {
   "cell_type": "code",
   "execution_count": 92,
   "metadata": {
    "collapsed": false
   },
   "outputs": [
    {
     "name": "stdout",
     "output_type": "stream",
     "text": [
      "phraseDepTag(d'amour,sont,root)\n",
      "0\n",
      "phraseDepTag(gens,Les,compound)\n",
      "1\n",
      "phraseDepTag(sont,gens,dep)\n",
      "2\n",
      "phraseDepTag(sont,absurdes,ccomp)\n",
      "3\n",
      "phraseDepTag(absurdes,totalement,nsubj)\n",
      "4\n",
      "phraseDepTag(absurdes,s,dobj)\n",
      "5\n",
      "phraseDepTag(s,lorsqu'il,compound)\n",
      "6\n",
      "phraseDepTag(s,d'amour,dep)\n",
      "7\n",
      "phraseDepTag(d'amour,agit,compound)\n",
      "8\n",
      "phrasePosTag(Les,NNS,1)\n",
      "phrasePosTag(gens,JJ,2)\n",
      "phrasePosTag(sont,NN,3)\n",
      "phrasePosTag(totalement,VBZ,4)\n",
      "phrasePosTag(absurdes,NN,5)\n",
      "phrasePosTag(lorsqu'il,NNS,6)\n",
      "phrasePosTag(s,``,7)\n",
      "phrasePosTag(`,FW,8)\n",
      "phrasePosTag(agit,FW,9)\n"
     ]
    }
   ],
   "source": [
    "index=0\n",
    "i=1\n",
    "stopwords=[\",\",\".\",\"?\"]\n",
    "tableau=a[\"sentences\"][0][\"tokens\"]\n",
    "\n",
    "for cpt in range(len(deptag)):\n",
    "    if (cpt) < len(tableau):\n",
    "        print \"phraseDepTag(\"+tableau[deptag[cpt][1]]+\",\"+tableau[deptag[cpt][2]]+\",\"+deptag[cpt][0]+\")\"\n",
    "        print cpt\n",
    "\n",
    "    \n",
    "for tok in tableau:\n",
    "    deptag=a['sentences'][0]['deps_cc']\n",
    "    u=0\n",
    "    if tok not in stopwords:\n",
    "        j=0\n",
    "        #On crée la feature PosTag\n",
    "        for pos in a[\"sentences\"][0]['pos']:\n",
    "            \n",
    "            if i==j:\n",
    "                print \"phrasePosTag(\"+tok+','+pos+','+str(i)+')'\n",
    "            u=u+1\n",
    "            j=j+1\n",
    "        i=i+1       "
   ]
  },
  {
   "cell_type": "code",
   "execution_count": 35,
   "metadata": {
    "collapsed": false
   },
   "outputs": [
    {
     "name": "stdout",
     "output_type": "stream",
     "text": [
      "[u'det', 1, 0]\n"
     ]
    }
   ],
   "source": [
    "print a['sentences'][0]['deps_cc'][1]"
   ]
  },
  {
   "cell_type": "markdown",
   "metadata": {
    "collapsed": false
   },
   "source": [
    "print a['sentences'][0]['entitymentions']"
   ]
  },
  {
   "cell_type": "code",
   "execution_count": 9,
   "metadata": {
    "collapsed": false,
    "scrolled": true
   },
   "outputs": [
    {
     "name": "stdout",
     "output_type": "stream",
     "text": [
      "(ROOT (SBARQ (WHNP (WDT Which) (NN software)) (SQ (VP (VBZ has) (VP (VBN been) (VP (VBN developed) (PP (IN by) (NP (NP (NNS organizations)) (VP (VBN founded) (PP (IN in) (NP (NNP California) (, ,) (NNP USA)))))))))) (. ?)))\n"
     ]
    }
   ],
   "source": [
    "print a['sentences'][0]['parse']"
   ]
  },
  {
   "cell_type": "code",
   "execution_count": null,
   "metadata": {
    "collapsed": false
   },
   "outputs": [],
   "source": []
  },
  {
   "cell_type": "code",
   "execution_count": null,
   "metadata": {
    "collapsed": true
   },
   "outputs": [],
   "source": []
  }
 ],
 "metadata": {
  "kernelspec": {
   "display_name": "Python 2",
   "language": "python",
   "name": "python2"
  },
  "language_info": {
   "codemirror_mode": {
    "name": "ipython",
    "version": 2
   },
   "file_extension": ".py",
   "mimetype": "text/x-python",
   "name": "python",
   "nbconvert_exporter": "python",
   "pygments_lexer": "ipython2",
   "version": "2.7.6"
  }
 },
 "nbformat": 4,
 "nbformat_minor": 0
}
