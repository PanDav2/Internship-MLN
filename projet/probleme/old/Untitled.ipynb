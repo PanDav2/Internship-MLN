{
 "cells": [
  {
   "cell_type": "code",
   "execution_count": 1,
   "metadata": {
    "collapsed": false
   },
   "outputs": [],
   "source": [
    "#-*- coding: utf-8 -*-\n",
    "import time\n",
    "import sys\n",
    "import re\n",
    "from stanford_corenlp_pywrapper import CoreNLP"
   ]
  },
  {
   "cell_type": "code",
   "execution_count": 2,
   "metadata": {
    "collapsed": false
   },
   "outputs": [
    {
     "name": "stderr",
     "output_type": "stream",
     "text": [
      "INFO:CoreNLP_PyWrapper:mode given as 'parse' so setting annotators: tokenize, ssplit, pos, lemma, parse\n",
      "INFO:CoreNLP_PyWrapper:Starting java subprocess, and waiting for signal it's ready, with command: exec java -Xmx4g -XX:ParallelGCThreads=1 -cp '/people/panou/Stage/projet/lib/stanford_corenlp_pywrapper/lib/*:/people/panou/Stage/projet/stanford-corenlp-full-2015-04-20/*'      corenlp.SocketServer --outpipe /tmp/corenlp_pywrap_pipe_pypid=22837_time=1440058054.21  --configdict '{\"annotators\": \"tokenize, ssplit, pos, lemma, parse\"}'\n",
      "INFO:CoreNLP_PyWrapper:Successful ping. The server has started.\n",
      "INFO:CoreNLP_PyWrapper:Subprocess is ready.\n"
     ]
    },
    {
     "data": {
      "text/plain": [
       "'    sys.stdout.write(\"-\")\\n    sys.stdout.flush()\\n    sys.stdout.write(\"\\n\")'"
      ]
     },
     "execution_count": 2,
     "metadata": {},
     "output_type": "execute_result"
    }
   ],
   "source": [
    "toolbar_width = 40\n",
    "loc= \"/people/panou/Stage/projet/stanford-corenlp-full-2015-04-20/*\"\n",
    "#toolbar setup\n",
    "\"\"\"\n",
    "sys.stdout.write(\"[%s]\"% (\" \"* toolbar_width))\n",
    "sys.stdout.flush()\n",
    "sys.stdout.write(\"\\b\"* (toolbar_width+1))# return to start of line, after '['\n",
    "\"\"\"\n",
    "#for i in xrange(toolbar_width):\n",
    "proc = CoreNLP(\"parse\", corenlp_jars=[loc])    \n",
    "\"\"\"    sys.stdout.write(\"-\")\n",
    "    sys.stdout.flush()\n",
    "    sys.stdout.write(\"\\n\")\"\"\"\n",
    "\n",
    "\n"
   ]
  },
  {
   "cell_type": "code",
   "execution_count": 52,
   "metadata": {
    "collapsed": false
   },
   "outputs": [],
   "source": [
    "a =proc.parse_doc(\"How many students does the Free University in Amsterdam have?\")"
   ]
  },
  {
   "cell_type": "code",
   "execution_count": 53,
   "metadata": {
    "collapsed": false
   },
   "outputs": [
    {
     "name": "stdout",
     "output_type": "stream",
     "text": [
      "phrasePosTag(How,WRB)\n",
      "phrasePosTag(many,JJ)\n",
      "phrasePosTag(students,NNS)\n",
      "phrasePosTag(does,VBZ)\n",
      "phrasePosTag(the,DT)\n",
      "phrasePosTag(Free,NNP)\n",
      "phrasePosTag(University,NNP)\n",
      "phrasePosTag(in,IN)\n",
      "phrasePosTag(Amsterdam,NNP)\n",
      "phrasePosTag(have,VB)\n",
      "phrasePosTag(?,.)\n"
     ]
    }
   ],
   "source": [
    "i=0\n",
    "for elmt1 in a['sentences'][0]['tokens']:\n",
    "    j=0\n",
    "    for elmt in a['sentences'][0]['pos']:\n",
    "        if i==j:\n",
    "            print \"phrasePosTag(\"+elmt1+','+elmt+')'\n",
    "        j=j+1\n",
    "    i=i+1"
   ]
  },
  {
   "cell_type": "code",
   "execution_count": 54,
   "metadata": {
    "collapsed": false,
    "scrolled": false
   },
   "outputs": [
    {
     "name": "stdout",
     "output_type": "stream",
     "text": [
      "PhraseIndex(How,1,1)\n",
      "PhraseIndex(Many,2,2)\n",
      "PhraseIndex(Students,3,3)\n",
      "PhraseIndex(Does,4,4)\n",
      "PhraseIndex(The,5,5)\n",
      "PhraseIndex(Free,6,6)\n",
      "PhraseIndex(University,7,7)\n",
      "PhraseIndex(In,8,8)\n",
      "PhraseIndex(Amsterdam,9,9)\n",
      "PhraseIndex(Have,10,10)\n",
      "PhraseIndex(?,11,11)\n",
      "\n",
      "\n",
      "PhraseDepTag(?,Have,Root)\n",
      "PhraseDepTag(Many,How,Advmod)\n",
      "PhraseDepTag(Students,Many,Amod)\n",
      "PhraseDepTag(University,The,Det)\n",
      "PhraseDepTag(University,Free,Compound)\n",
      "PhraseDepTag(University,Amsterdam,Nmod:In)\n",
      "PhraseDepTag(Amsterdam,In,Case)\n",
      "PhraseDepTag(Have,Students,Dobj)\n",
      "PhraseDepTag(Have,Does,Aux)\n",
      "PhraseDepTag(Have,University,Nsubj)\n",
      "\n",
      "\n",
      "PhrasePosTag(How,WRB)\n",
      "PhrasePosTag(Many,JJ)\n",
      "PhrasePosTag(Students,NNS)\n",
      "PhrasePosTag(Does,VBZ)\n",
      "PhrasePosTag(The,DT)\n",
      "PhrasePosTag(Free,NNP)\n",
      "PhrasePosTag(University,NNP)\n",
      "PhrasePosTag(In,IN)\n",
      "PhrasePosTag(Amsterdam,NNP)\n",
      "PhrasePosTag(Have,VB)\n"
     ]
    }
   ],
   "source": [
    "index=0\n",
    "i=0\n",
    "stopwords=[\",\",\".\",\"?\"]\n",
    "tableau=a[\"sentences\"][0][\"tokens\"]\n",
    "deptag=a[\"sentences\"][0][\"deps_cc\"]\n",
    "\n",
    "for l,tok in enumerate(tableau):\n",
    "    print \"PhraseIndex(\"+tok.title()+','+str(l+1)+','+str(l+1)+')'\n",
    "    \n",
    "print '\\n'\n",
    "\n",
    "for cpt in range(len(deptag)):\n",
    "    if (cpt) < len(tableau):\n",
    "        print \"PhraseDepTag(\"+tableau[deptag[cpt][1]].title()+\",\"+tableau[deptag[cpt][2]].title()+\",\"+deptag[cpt][0].title()+\")\"\n",
    "        #print cpt\n",
    "print '\\n'\n",
    "\n",
    "for tok in tableau:\n",
    "    deptag=a['sentences'][0]['deps_cc']\n",
    "    \n",
    "    if tok not in stopwords:\n",
    "        j=0\n",
    "        #On crée la feature PosTag\n",
    "        for pos in a[\"sentences\"][0]['pos']:\n",
    "            \n",
    "            if i==j:\n",
    "                print \"PhrasePosTag(\"+tok.title()+','+pos.upper()+')'\n",
    "            \n",
    "            j=j+1\n",
    "        i=i+1       "
   ]
  },
  {
   "cell_type": "code",
   "execution_count": 19,
   "metadata": {
    "collapsed": false
   },
   "outputs": [
    {
     "name": "stdout",
     "output_type": "stream",
     "text": [
      "[u'advmod', 1, 0]\n"
     ]
    }
   ],
   "source": [
    "print a['sentences'][0]['deps_cc'][1]"
   ]
  },
  {
   "cell_type": "markdown",
   "metadata": {
    "collapsed": false
   },
   "source": [
    "print a['sentences'][0]['entitymentions']"
   ]
  },
  {
   "cell_type": "code",
   "execution_count": 18,
   "metadata": {
    "collapsed": false,
    "scrolled": true
   },
   "outputs": [
    {
     "name": "stdout",
     "output_type": "stream",
     "text": [
      "(ROOT (SBARQ (WHNP (WHADJP (WRB How) (JJ many)) (NNS students)) (SQ (VBZ does) (NP (NP (DT the) (NNP Free) (NNP University)) (PP (IN in) (NP (NNP Amsterdam)))) (VP (VB have))) (. ?)))\n"
     ]
    }
   ],
   "source": [
    "print a['sentences'][0]['parse']"
   ]
  },
  {
   "cell_type": "code",
   "execution_count": null,
   "metadata": {
    "collapsed": false
   },
   "outputs": [],
   "source": []
  },
  {
   "cell_type": "code",
   "execution_count": null,
   "metadata": {
    "collapsed": true
   },
   "outputs": [],
   "source": []
  }
 ],
 "metadata": {
  "kernelspec": {
   "display_name": "Python 2",
   "language": "python",
   "name": "python2"
  },
  "language_info": {
   "codemirror_mode": {
    "name": "ipython",
    "version": 2
   },
   "file_extension": ".py",
   "mimetype": "text/x-python",
   "name": "python",
   "nbconvert_exporter": "python",
   "pygments_lexer": "ipython2",
   "version": "2.7.6"
  }
 },
 "nbformat": 4,
 "nbformat_minor": 0
}
